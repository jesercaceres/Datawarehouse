{
  "nbformat": 4,
  "nbformat_minor": 0,
  "metadata": {
    "colab": {
      "provenance": [],
      "authorship_tag": "ABX9TyPcNZBB3mGYWQgKWVFS9lpR"
    },
    "kernelspec": {
      "name": "python3",
      "display_name": "Python 3"
    },
    "language_info": {
      "name": "python"
    }
  },
  "cells": [
    {
      "cell_type": "code",
      "execution_count": 4,
      "metadata": {
        "colab": {
          "base_uri": "https://localhost:8080/"
        },
        "id": "eRfH4RRhJtQJ",
        "outputId": "fcdc0d11-23b5-444d-92cb-dde016a42c16"
      },
      "outputs": [
        {
          "output_type": "stream",
          "name": "stdout",
          "text": [
            "Conteúdo do Data Warehouse\n",
            "           data  produto_id  quantidade  valor_total         nome  categoria\n",
            "0    2024-04-02         211        4264         1545  Produto 211     Roupas\n",
            "1    2024-04-21         211        2772         5245  Produto 211     Roupas\n",
            "2    2024-04-09         211        3455         1921  Produto 211     Roupas\n",
            "3    2024-04-03         211        6745         2782  Produto 211     Roupas\n",
            "4    2024-04-21         211        5969         3607  Produto 211     Roupas\n",
            "..          ...         ...         ...          ...          ...        ...\n",
            "995  2024-04-16         302        7957         1721  Produto 302  Alimentos\n",
            "996  2024-04-19         477        7896         7544  Produto 477  Alimentos\n",
            "997  2024-04-08         486        5528         8976  Produto 486  Alimentos\n",
            "998  2024-04-28         572        3357         5915  Produto 572     Roupas\n",
            "999  2024-04-03         338        5453         3023  Produto 338     Roupas\n",
            "\n",
            "[1000 rows x 6 columns]\n"
          ]
        }
      ],
      "source": [
        "import pandas as pd\n",
        "import numpy as np\n",
        "\n",
        "# Definição do número total de produtos\n",
        "num_produtos = 600\n",
        "# Cria um dicionário de produtos contendo IDs, nomes e categorias de produtos\n",
        "produtos = {\n",
        "    'produto_id': range(1, num_produtos + 1),  # IDs dos produtos de 1 a 600\n",
        "    'nome': [f'Produto {i}' for i in range(1, num_produtos + 1)],  # Nomes dos produtos\n",
        "    'categoria': np.random.choice(['Eletrônicos', 'Roupas', 'Alimentos'], num_produtos)  # Escolha aleatória das categorias\n",
        "}\n",
        "\n",
        "# Converte o dicionário de produtos em um DataFrame do pandas\n",
        "df_produtos = pd.DataFrame(produtos)\n",
        "\n",
        "# Define o número total de vendas\n",
        "num_vendas = 1000\n",
        "# Cria um dicionário de vendas contendo datas, IDs de produtos, quantidades vendidas e valores totais\n",
        "data_vendas = {\n",
        "    'data': np.random.choice(pd.date_range('2024-04-01', periods=30), num_vendas),  # Datas de venda aleatórias dentro de um período de 30 dias\n",
        "    'produto_id': np.random.randint(1, num_produtos + 1, num_vendas),  # IDs de produtos aleatórios\n",
        "    'quantidade': np.random.randint(1000, 10000, num_vendas),  # Quantidades vendidas aleatórias\n",
        "    'valor_total': np.random.randint(1000, 10000, num_vendas)  # Valores totais aleatórios\n",
        "}\n",
        "\n",
        "# Converte o dicionário de vendas em um DataFrame do pandas\n",
        "df_vendas = pd.DataFrame(data_vendas)\n",
        "\n",
        "# Salva os DataFrames de vendas e produtos em arquivos CSV\n",
        "df_vendas.to_csv('vendas.csv', index=False)\n",
        "df_produtos.to_csv('produtos.csv', index=False)\n",
        "\n",
        "# Lê os arquivos CSV de vendas e produtos de volta para DataFrames do pandas\n",
        "df_vendas = pd.read_csv('vendas.csv')\n",
        "df_produtos = pd.read_csv('produtos.csv')\n",
        "\n",
        "# Mescla os DataFrames de vendas e produtos com base no ID do produto\n",
        "df_merge = pd.merge(df_vendas, df_produtos, on='produto_id', how='inner')\n",
        "\n",
        "# Salva o DataFrame mesclado em um arquivo CSV, simulando um data warehouse\n",
        "df_merge.to_csv('data_warehouse.csv', index=False)\n",
        "\n",
        "# Lê o arquivo CSV do data warehouse de volta para um DataFrame do pandas\n",
        "df_warehouse = pd.read_csv('data_warehouse.csv')\n",
        "\n",
        "# Imprime o conteúdo do data warehouse\n",
        "print(\"Conteúdo do Data Warehouse\")\n",
        "print(df_warehouse)\n"
      ]
    }
  ]
}